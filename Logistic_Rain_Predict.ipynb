{
 "cells": [
  {
   "cell_type": "markdown",
   "metadata": {},
   "source": [
    "***Logistic Regression Prediction***"
   ]
  },
  {
   "cell_type": "markdown",
   "metadata": {},
   "source": [
    "Ryan Thompson <br/>\n",
    "Algorithms of Machine Learning <br/>  \n",
    "\n",
    "*Using logistic regression in order to predict whether or not it will rain on a given day.*"
   ]
  },
  {
   "cell_type": "markdown",
   "metadata": {},
   "source": [
    "**Import Libraries**"
   ]
  },
  {
   "cell_type": "code",
   "execution_count": 41,
   "metadata": {},
   "outputs": [],
   "source": [
    "from sklearn.model_selection import train_test_split\n",
    "from sklearn.linear_model import LogisticRegression\n",
    "from sklearn import metrics\n",
    "\n",
    "import matplotlib.pyplot as plt\n",
    "import seaborn as sns\n",
    "import pandas as pd"
   ]
  },
  {
   "cell_type": "markdown",
   "metadata": {},
   "source": [
    "**Main Function**\n",
    "<br/>\n",
    "Driver function. Data setup and function calls."
   ]
  },
  {
   "cell_type": "code",
   "execution_count": 49,
   "metadata": {},
   "outputs": [],
   "source": [
    "def main():\n",
    "    days = load_data() # Setup data\n",
    "\n",
    "    #bar_graph(days) # Show rainy days vs non-rainy days\n",
    "    \n",
    "    X = set_features(days) # Assigning feature data\n",
    "    y = set_label(days) # Assigning label. This is the target for predictions\n",
    "\n",
    "    # Splitting the data into training data and test data\n",
    "    X_train,X_test,y_train,y_test=train_test_split(X, y, test_size=0.25, random_state=0)\n",
    "\n",
    "    logistic_reg = get_logistic() # Grabbing logistic regression model\n",
    "\n",
    "    # Training the logistic regression model with training data\n",
    "    logistic_reg.fit(X_train,y_train)\n",
    "\n",
    "    # Making the predictions\n",
    "    y_pred = logistic_reg.predict(X_test)\n",
    "    # print(X_test)\n",
    "    \n",
    "    print(\"\\nModel accuracy test:\")\n",
    "    model_test(y_test, y_pred)\n",
    "    \n",
    "    print(\"\\nRunning test-runs:\")\n",
    "    will_it_rain(logistic_reg)"
   ]
  },
  {
   "cell_type": "markdown",
   "metadata": {},
   "source": [
    "**Data Load**\n",
    "<br/>\n",
    "Uses pandas to load the rain.csv file into a usable format."
   ]
  },
  {
   "cell_type": "code",
   "execution_count": 16,
   "metadata": {},
   "outputs": [
    {
     "name": "stdout",
     "output_type": "stream",
     "text": [
      "     WindGustSpeedKmph  MaxTemp  MinTemp  CloudCover  TempC  label\n",
      "0                   13       24       13           9     24      0\n",
      "1                   15       23       11          13     23      0\n",
      "2                    6       22       12           5     22      0\n",
      "3                   17       27       16           8     27      0\n",
      "4                   11       29       17           6     29      0\n",
      "..                 ...      ...      ...         ...    ...    ...\n",
      "362                 14       33       18           0     33      0\n",
      "363                 30       29       19           2     29      0\n",
      "364                 14       17        5           0     17      0\n",
      "365                 14       21        9           0     21      0\n",
      "366                 12       26       12           0     26      0\n",
      "\n",
      "[367 rows x 6 columns]\n"
     ]
    }
   ],
   "source": [
    "def load_data():\n",
    "    # Column names from data(rain.csv)\n",
    "    col_names = ['WindGustSpeedKmph', 'MaxTemp', 'MinTemp', 'CloudCover', 'TempC', 'label']\n",
    "    # Days will be the dataset\n",
    "    days = pd.read_csv(\"rain.csv\", header=None, names=col_names, skiprows=[0])\n",
    "    #print(days.head()) # Outputing the start of loaded dataset\n",
    "    return days\n",
    "\n",
    "print(load_data())"
   ]
  },
  {
   "cell_type": "markdown",
   "metadata": {},
   "source": [
    "**Bar Graph**\n",
    "<br/>\n",
    "Displays the rainy days and non-rainy days in a bar graph"
   ]
  },
  {
   "cell_type": "code",
   "execution_count": 13,
   "metadata": {},
   "outputs": [
    {
     "name": "stdout",
     "output_type": "stream",
     "text": [
      "   WindGustSpeedKmph  MaxTemp  MinTemp  CloudCover  TempC  label\n",
      "0                 13       24       13           9     24      0\n",
      "1                 15       23       11          13     23      0\n",
      "2                  6       22       12           5     22      0\n",
      "3                 17       27       16           8     27      0\n",
      "4                 11       29       17           6     29      0\n"
     ]
    },
    {
     "data": {
      "image/png": "[encoded data removed]",
      "text/plain": [
       "<Figure size 432x288 with 1 Axes>"
      ]
     },
     "metadata": {
      "needs_background": "light"
     },
     "output_type": "display_data"
    }
   ],
   "source": [
    "def bar_graph(days):\n",
    "    sns.countplot(x=\"label\", data=days)\n",
    "    plt.show()\n",
    "    \n",
    "days = load_data()\n",
    "bar_graph(days)"
   ]
  },
  {
   "cell_type": "markdown",
   "metadata": {},
   "source": [
    "**Features VS Label**\n",
    "<br/>\n",
    "Setting the column names of the features and the label."
   ]
  },
  {
   "cell_type": "code",
   "execution_count": 29,
   "metadata": {},
   "outputs": [],
   "source": [
    "def set_features(days):\n",
    "    feature_cols = ['WindGustSpeedKmph', 'MaxTemp', 'MinTemp', 'CloudCover', 'TempC']\n",
    "    X = days[feature_cols] # Assigning features to X\n",
    "    return X\n",
    "\n",
    "def set_label(days):\n",
    "    y = days.label # Setting Precipitation to be the label.\n",
    "    return y"
   ]
  },
  {
   "cell_type": "code",
   "execution_count": 28,
   "metadata": {},
   "outputs": [
    {
     "data": {
      "text/html": [
       "<div>\n",
       "<style scoped>\n",
       "    .dataframe tbody tr th:only-of-type {\n",
       "        vertical-align: middle;\n",
       "    }\n",
       "\n",
       "    .dataframe tbody tr th {\n",
       "        vertical-align: top;\n",
       "    }\n",
       "\n",
       "    .dataframe thead th {\n",
       "        text-align: right;\n",
       "    }\n",
       "</style>\n",
       "<table border=\"1\" class=\"dataframe\">\n",
       "  <thead>\n",
       "    <tr style=\"text-align: right;\">\n",
       "      <th></th>\n",
       "      <th>WindGustSpeedKmph</th>\n",
       "      <th>MaxTemp</th>\n",
       "      <th>MinTemp</th>\n",
       "      <th>CloudCover</th>\n",
       "      <th>TempC</th>\n",
       "    </tr>\n",
       "  </thead>\n",
       "  <tbody>\n",
       "    <tr>\n",
       "      <th>0</th>\n",
       "      <td>13</td>\n",
       "      <td>24</td>\n",
       "      <td>13</td>\n",
       "      <td>9</td>\n",
       "      <td>24</td>\n",
       "    </tr>\n",
       "    <tr>\n",
       "      <th>1</th>\n",
       "      <td>15</td>\n",
       "      <td>23</td>\n",
       "      <td>11</td>\n",
       "      <td>13</td>\n",
       "      <td>23</td>\n",
       "    </tr>\n",
       "    <tr>\n",
       "      <th>2</th>\n",
       "      <td>6</td>\n",
       "      <td>22</td>\n",
       "      <td>12</td>\n",
       "      <td>5</td>\n",
       "      <td>22</td>\n",
       "    </tr>\n",
       "    <tr>\n",
       "      <th>3</th>\n",
       "      <td>17</td>\n",
       "      <td>27</td>\n",
       "      <td>16</td>\n",
       "      <td>8</td>\n",
       "      <td>27</td>\n",
       "    </tr>\n",
       "    <tr>\n",
       "      <th>4</th>\n",
       "      <td>11</td>\n",
       "      <td>29</td>\n",
       "      <td>17</td>\n",
       "      <td>6</td>\n",
       "      <td>29</td>\n",
       "    </tr>\n",
       "    <tr>\n",
       "      <th>...</th>\n",
       "      <td>...</td>\n",
       "      <td>...</td>\n",
       "      <td>...</td>\n",
       "      <td>...</td>\n",
       "      <td>...</td>\n",
       "    </tr>\n",
       "    <tr>\n",
       "      <th>362</th>\n",
       "      <td>14</td>\n",
       "      <td>33</td>\n",
       "      <td>18</td>\n",
       "      <td>0</td>\n",
       "      <td>33</td>\n",
       "    </tr>\n",
       "    <tr>\n",
       "      <th>363</th>\n",
       "      <td>30</td>\n",
       "      <td>29</td>\n",
       "      <td>19</td>\n",
       "      <td>2</td>\n",
       "      <td>29</td>\n",
       "    </tr>\n",
       "    <tr>\n",
       "      <th>364</th>\n",
       "      <td>14</td>\n",
       "      <td>17</td>\n",
       "      <td>5</td>\n",
       "      <td>0</td>\n",
       "      <td>17</td>\n",
       "    </tr>\n",
       "    <tr>\n",
       "      <th>365</th>\n",
       "      <td>14</td>\n",
       "      <td>21</td>\n",
       "      <td>9</td>\n",
       "      <td>0</td>\n",
       "      <td>21</td>\n",
       "    </tr>\n",
       "    <tr>\n",
       "      <th>366</th>\n",
       "      <td>12</td>\n",
       "      <td>26</td>\n",
       "      <td>12</td>\n",
       "      <td>0</td>\n",
       "      <td>26</td>\n",
       "    </tr>\n",
       "  </tbody>\n",
       "</table>\n",
       "<p>367 rows × 5 columns</p>\n",
       "</div>"
      ],
      "text/plain": [
       "     WindGustSpeedKmph  MaxTemp  MinTemp  CloudCover  TempC\n",
       "0                   13       24       13           9     24\n",
       "1                   15       23       11          13     23\n",
       "2                    6       22       12           5     22\n",
       "3                   17       27       16           8     27\n",
       "4                   11       29       17           6     29\n",
       "..                 ...      ...      ...         ...    ...\n",
       "362                 14       33       18           0     33\n",
       "363                 30       29       19           2     29\n",
       "364                 14       17        5           0     17\n",
       "365                 14       21        9           0     21\n",
       "366                 12       26       12           0     26\n",
       "\n",
       "[367 rows x 5 columns]"
      ]
     },
     "execution_count": 28,
     "metadata": {},
     "output_type": "execute_result"
    }
   ],
   "source": [
    "set_features(days)"
   ]
  },
  {
   "cell_type": "code",
   "execution_count": 27,
   "metadata": {},
   "outputs": [
    {
     "data": {
      "text/plain": [
       "0      0\n",
       "1      0\n",
       "2      0\n",
       "3      0\n",
       "4      0\n",
       "      ..\n",
       "362    0\n",
       "363    0\n",
       "364    0\n",
       "365    0\n",
       "366    0\n",
       "Name: label, Length: 367, dtype: int64"
      ]
     },
     "execution_count": 27,
     "metadata": {},
     "output_type": "execute_result"
    }
   ],
   "source": [
    "set_label(days)"
   ]
  },
  {
   "cell_type": "markdown",
   "metadata": {},
   "source": [
    "**Logistic Object**\n",
    "<br/>\n",
    "Sets up the Logistic Regression object model."
   ]
  },
  {
   "cell_type": "code",
   "execution_count": 6,
   "metadata": {},
   "outputs": [],
   "source": [
    "def get_logistic():\n",
    "    logistic_reg = LogisticRegression(max_iter=5000)\n",
    "    return logistic_reg"
   ]
  },
  {
   "cell_type": "markdown",
   "metadata": {},
   "source": [
    "**Accuracy Test**\n",
    "<br/>\n",
    "Tests the ~accuracy of the model"
   ]
  },
  {
   "cell_type": "code",
   "execution_count": 47,
   "metadata": {},
   "outputs": [],
   "source": [
    "def model_test(y_test, y_pred):\n",
    "    accuracy = metrics.accuracy_score(y_test, y_pred)\n",
    "    print(\"\\tAccuracy: \" +  str(accuracy))\n",
    "    return accuracy"
   ]
  },
  {
   "cell_type": "markdown",
   "metadata": {},
   "source": [
    "**Rain?**\n",
    "<br/>\n",
    "Plugging in values to make prediction of if it will rain or not. \n",
    "Convert output to a more human friendly version rather then just 0 or 1."
   ]
  },
  {
   "cell_type": "code",
   "execution_count": 45,
   "metadata": {},
   "outputs": [],
   "source": [
    "#  ['WindGustSpeedKmph', 'MaxTemp', 'MinTemp', 'CloudCover', 'TempC']\n",
    "def will_it_rain(logistic_reg):\n",
    "    # Dummy test-runs to predcit rainy days\n",
    "    test_day_one =  [[5, 30, 15, 11, 22]]\n",
    "    test_day_two =  [[15, 50, 30, 50, 32]]\n",
    "    test_day_three =  [[0, 12, 0, 0, 10]]\n",
    "    test_day_four =  [[45, 60, 10, 55, 33]]\n",
    "    test_day_five = [[12, 20, 10, 5, 10]]\n",
    "\n",
    "    # Predictions for test-runs\n",
    "    prediction = []\n",
    "    prediction.append(logistic_reg.predict(test_day_one))\n",
    "    prediction.append(logistic_reg.predict(test_day_two))\n",
    "    prediction.append(logistic_reg.predict(test_day_three))\n",
    "    prediction.append(logistic_reg.predict(test_day_four))\n",
    "    prediction.append(logistic_reg.predict(test_day_five))\n",
    "    \n",
    "    # Number of test-runs\n",
    "    n = len(prediction)\n",
    "\n",
    "    # Output if will rain or not in english\n",
    "    for i in range(n):\n",
    "        if(prediction[i] == 0):\n",
    "            print(\"\\tIt will not rain.\")\n",
    "        elif(prediction[i] == 1):\n",
    "            print(\"\\tRainy day. Sad.\")\n",
    "        else:\n",
    "            print(\"\\tSomething went wrong\")\n",
    "        # print(prediction)"
   ]
  },
  {
   "cell_type": "markdown",
   "metadata": {},
   "source": [
    "Pushing the big red button"
   ]
  },
  {
   "cell_type": "code",
   "execution_count": 50,
   "metadata": {},
   "outputs": [
    {
     "name": "stdout",
     "output_type": "stream",
     "text": [
      "\n",
      "Model accuracy test:\n",
      "\tAccuracy: 0.8913043478260869\n",
      "\n",
      "Running test-runs:\n",
      "\tIt will not rain.\n",
      "\tRainy day. Sad.\n",
      "\tIt will not rain.\n",
      "\tRainy day. Sad.\n",
      "\tIt will not rain.\n"
     ]
    }
   ],
   "source": [
    "main()"
   ]
  }
 ],
 "metadata": {
  "kernelspec": {
   "display_name": "Python 3 (ipykernel)",
   "language": "python",
   "name": "python3"
  },
  "language_info": {
   "codemirror_mode": {
    "name": "ipython",
    "version": 3
   },
   "file_extension": ".py",
   "mimetype": "text/x-python",
   "name": "python",
   "nbconvert_exporter": "python",
   "pygments_lexer": "ipython3",
   "version": "3.9.18"
  }
 },
 "nbformat": 4,
 "nbformat_minor": 4
}
